{
 "cells": [
  {
   "cell_type": "code",
   "execution_count": null,
   "id": "da45d96e",
   "metadata": {},
   "outputs": [],
   "source": [
    "import pandas as pd\n",
    "\n",
    "# Replace 'file1.xlsx' and 'file2.xlsx' with the paths to your Excel files\n",
    "file1_path = r'C:\\Users\\ian.muthengi\\Downloads\\Motor Commercial 2803-010424.xlsx'\n",
    "file2_path = r'C:\\Users\\ian.muthengi\\Downloads\\Motor Private 2803-010424.xlsx'\n",
    "\n",
    "# Read Excel files into pandas DataFrames\n",
    "df1 = pd.read_excel(file1_path)\n",
    "df2 = pd.read_excel(file2_path)\n",
    "\n",
    "# Concatenate the two DataFrames vertically (assuming they have the same columns)\n",
    "combined_df = pd.concat([df1, df2], ignore_index=True)\n",
    "\n",
    "# Replace 'output_file.xlsx' with the desired output file path\n",
    "output_file_path = 'MERGED MOTOR 280324-1014024.xlsx'\n",
    "\n",
    "# Write the merged DataFrame to a new Excel file\n",
    "combined_df.to_excel(output_file_path, index=False)\n",
    "\n",
    "print(f'Merged data saved to {output_file_path}')\n"
   ]
  }
 ],
 "metadata": {
  "kernelspec": {
   "display_name": "Python 3 (ipykernel)",
   "language": "python",
   "name": "python3"
  },
  "language_info": {
   "codemirror_mode": {
    "name": "ipython",
    "version": 3
   },
   "file_extension": ".py",
   "mimetype": "text/x-python",
   "name": "python",
   "nbconvert_exporter": "python",
   "pygments_lexer": "ipython3",
   "version": "3.11.5"
  }
 },
 "nbformat": 4,
 "nbformat_minor": 5
}
