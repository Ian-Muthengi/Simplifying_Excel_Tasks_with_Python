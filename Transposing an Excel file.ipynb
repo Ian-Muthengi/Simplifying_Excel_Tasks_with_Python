{
 "cells": [
  {
   "cell_type": "markdown",
   "metadata": {},
   "source": [
    "# Transposing datasets"
   ]
  },
  {
   "cell_type": "markdown",
   "metadata": {},
   "source": [
    "#### This transposes the whole excel file with one sheet"
   ]
  },
  {
   "cell_type": "code",
   "execution_count": 1,
   "metadata": {},
   "outputs": [],
   "source": [
    "import pandas as pd\n",
    "\n",
    "# Replace 'input.csv' with the path to your CSV file\n",
    "input_file = r'C:\\Users\\ian.muthengi\\Downloads\\HGHGHGH.xlsx'\n",
    "\n",
    "# Read the CSV file into a pandas DataFrame\n",
    "df = pd.read_excel(input_file)\n",
    "\n",
    "# Transpose the DataFrame\n",
    "df_transposed = df.transpose()\n",
    "\n",
    "# Replace 'output_transposed.csv' with the desired output file name\n",
    "output_file = 'C:/Users/ian.muthengi/Downloads/output_transposed.xlsx'\n",
    "\n",
    "# Write the transposed DataFrame to a new CSV file\n",
    "df_transposed.to_excel(output_file, index=True, header=False)"
   ]
  }
 ],
 "metadata": {
  "kernelspec": {
   "display_name": "base",
   "language": "python",
   "name": "python3"
  },
  "language_info": {
   "codemirror_mode": {
    "name": "ipython",
    "version": 3
   },
   "file_extension": ".py",
   "mimetype": "text/x-python",
   "name": "python",
   "nbconvert_exporter": "python",
   "pygments_lexer": "ipython3",
   "version": "3.9.12"
  }
 },
 "nbformat": 4,
 "nbformat_minor": 2
}
