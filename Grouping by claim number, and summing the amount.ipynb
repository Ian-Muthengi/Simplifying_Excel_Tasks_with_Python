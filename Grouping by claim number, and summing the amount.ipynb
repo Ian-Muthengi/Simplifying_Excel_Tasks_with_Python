{
 "cells": [
  {
   "cell_type": "code",
   "execution_count": 3,
   "metadata": {},
   "outputs": [],
   "source": [
    "import pandas as pd\n",
    "\n",
    "# Read the Excel file\n",
    "df = pd.read_excel(r'C:\\Users\\ian.muthengi\\Downloads\\gdfgf.xlsx')\n",
    "\n",
    "# Group by CLAIM NO and YEAR, and sum the corresponding amounts\n",
    "grouped_df = df.groupby(['CMB_CLAIM_NO', 'CLMREV_YEAR']).agg({'CLMREV_AMT': 'sum', 'CMB_CLAIM_YEAR': 'first', 'CMB_MAX_RESERVE_AMT': 'first'}).reset_index()\n",
    "\n",
    "# Write the grouped data to a new sheet\n",
    "with pd.ExcelWriter('output_excel_file.xlsx') as writer:\n",
    "    grouped_df.to_excel(writer, sheet_name='Summarized Data', index=False)\n"
   ]
  }
 ],
 "metadata": {
  "kernelspec": {
   "display_name": "base",
   "language": "python",
   "name": "python3"
  },
  "language_info": {
   "codemirror_mode": {
    "name": "ipython",
    "version": 3
   },
   "file_extension": ".py",
   "mimetype": "text/x-python",
   "name": "python",
   "nbconvert_exporter": "python",
   "pygments_lexer": "ipython3",
   "version": "3.11.5"
  }
 },
 "nbformat": 4,
 "nbformat_minor": 2
}
