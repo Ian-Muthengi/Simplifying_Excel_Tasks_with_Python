{
 "cells": [
  {
   "cell_type": "code",
   "execution_count": 2,
   "metadata": {},
   "outputs": [
    {
     "name": "stdout",
     "output_type": "stream",
     "text": [
      "Conversion complete. data saved to DATE CONVERTED.xlsx\n"
     ]
    }
   ],
   "source": [
    "import pandas as pd\n",
    "\n",
    "file_path = r'C:\\Users\\ian.muthengi\\Downloads\\CX Data.xlsx'\n",
    "\n",
    "df = pd.read_excel(file_path)\n",
    "\n",
    "df['UWY'] = pd.to_datetime(df['UWY'])\n",
    "\n",
    "df['UWY'].dt.strftime('%d/%m/%Y')\n",
    "\n",
    "output_file_path = 'DATE CONVERTED.xlsx'\n",
    "\n",
    "df.to_excel(output_file_path, index=False)\n",
    "\n",
    "print(f'Conversion complete. data saved to {output_file_path}')"
   ]
  }
 ],
 "metadata": {
  "kernelspec": {
   "display_name": "base",
   "language": "python",
   "name": "python3"
  },
  "language_info": {
   "codemirror_mode": {
    "name": "ipython",
    "version": 3
   },
   "file_extension": ".py",
   "mimetype": "text/x-python",
   "name": "python",
   "nbconvert_exporter": "python",
   "pygments_lexer": "ipython3",
   "version": "3.9.12"
  }
 },
 "nbformat": 4,
 "nbformat_minor": 2
}
